{
 "cells": [
  {
   "cell_type": "code",
   "execution_count": 1,
   "id": "UZOzXAogOQWr",
   "metadata": {
    "colab": {
     "base_uri": "https://localhost:8080/"
    },
    "executionInfo": {
     "elapsed": 33843,
     "status": "ok",
     "timestamp": 1718991517550,
     "user": {
      "displayName": "zee zkr",
      "userId": "07652722617520030141"
     },
     "user_tz": 420
    },
    "id": "UZOzXAogOQWr",
    "outputId": "620f48a4-d6eb-49e1-8125-3cd5701e4123"
   },
   "outputs": [
    {
     "name": "stdout",
     "output_type": "stream",
     "text": [
      "Mounted at /content/drive\n"
     ]
    }
   ],
   "source": [
    "from google.colab import drive\n",
    "drive.mount('/content/drive')"
   ]
  },
  {
   "cell_type": "code",
   "execution_count": 2,
   "id": "NfZZIA55yYSI",
   "metadata": {
    "executionInfo": {
     "elapsed": 5202,
     "status": "ok",
     "timestamp": 1718991527115,
     "user": {
      "displayName": "zee zkr",
      "userId": "07652722617520030141"
     },
     "user_tz": 420
    },
    "id": "NfZZIA55yYSI"
   },
   "outputs": [],
   "source": [
    "import tensorflow\n",
    "import numpy as np\n",
    "import pandas as pd\n",
    "from sklearn.metrics import ConfusionMatrixDisplay\n",
    "from sklearn.metrics import confusion_matrix\n",
    "import matplotlib.pyplot as plt\n",
    "import seaborn as sns\n",
    "import os\n",
    "from keras.preprocessing.image import ImageDataGenerator"
   ]
  },
  {
   "cell_type": "code",
   "execution_count": 3,
   "id": "fA-nURFj_TbD",
   "metadata": {
    "executionInfo": {
     "elapsed": 528,
     "status": "ok",
     "timestamp": 1718991538666,
     "user": {
      "displayName": "zee zkr",
      "userId": "07652722617520030141"
     },
     "user_tz": 420
    },
    "id": "fA-nURFj_TbD"
   },
   "outputs": [],
   "source": [
    "given_dataset='/content/drive/MyDrive/lungs_neg_pos'"
   ]
  },
  {
   "cell_type": "markdown",
   "id": "c5430909-c1a7-4b7a-981f-a7f2d59fbf90",
   "metadata": {
    "id": "c5430909-c1a7-4b7a-981f-a7f2d59fbf90"
   },
   "source": [
    "**<font color=\"orange\">1st step:   Split the dataset into train ,validation & test</font>**"
   ]
  },
  {
   "cell_type": "code",
   "execution_count": 4,
   "id": "HPrGveieRe7b",
   "metadata": {
    "executionInfo": {
     "elapsed": 522,
     "status": "ok",
     "timestamp": 1718991561680,
     "user": {
      "displayName": "zee zkr",
      "userId": "07652722617520030141"
     },
     "user_tz": 420
    },
    "id": "HPrGveieRe7b"
   },
   "outputs": [],
   "source": [
    "#pip install split-folders"
   ]
  },
  {
   "cell_type": "code",
   "execution_count": 5,
   "id": "thxPdxS8Sq4z",
   "metadata": {
    "executionInfo": {
     "elapsed": 543,
     "status": "ok",
     "timestamp": 1718991567098,
     "user": {
      "displayName": "zee zkr",
      "userId": "07652722617520030141"
     },
     "user_tz": 420
    },
    "id": "thxPdxS8Sq4z"
   },
   "outputs": [],
   "source": [
    "import splitfolders"
   ]
  },
  {
   "cell_type": "code",
   "execution_count": 6,
   "id": "LqA-JdGd-uDr",
   "metadata": {
    "executionInfo": {
     "elapsed": 548,
     "status": "ok",
     "timestamp": 1718991582028,
     "user": {
      "displayName": "zee zkr",
      "userId": "07652722617520030141"
     },
     "user_tz": 420
    },
    "id": "LqA-JdGd-uDr"
   },
   "outputs": [],
   "source": [
    "splitfolders.ratio(given_dataset, output='/content/drive/MyDrive/Dataset_Lung_Cancer/output_split_lungs',seed=42, ratio=(.7, .2, .1),group_prefix=None)"
   ]
  },
  {
   "cell_type": "code",
   "execution_count": 7,
   "id": "e7c3f810",
   "metadata": {
    "executionInfo": {
     "elapsed": 518,
     "status": "ok",
     "timestamp": 1718991658868,
     "user": {
      "displayName": "zee zkr",
      "userId": "07652722617520030141"
     },
     "user_tz": 420
    },
    "id": "e7c3f810"
   },
   "outputs": [],
   "source": [
    "train_images=r\"/content/drive/MyDrive/Dataset_Lung_Cancer/output_split_lungs/train\"\n",
    "validation_images=r\"/content/drive/MyDrive/Dataset_Lung_Cancer/output_split_lungs/val\"\n",
    "test_images=r\"/content/drive/MyDrive/Dataset_Lung_Cancer/output_split_lungs/test\""
   ]
  },
  {
   "cell_type": "markdown",
   "id": "6fe37712-0bb1-4795-b444-eba2fe50b209",
   "metadata": {
    "executionInfo": {
     "elapsed": 1020,
     "status": "ok",
     "timestamp": 1717864349522,
     "user": {
      "displayName": "zee zkr",
      "userId": "07652722617520030141"
     },
     "user_tz": 420
    },
    "id": "6fe37712-0bb1-4795-b444-eba2fe50b209"
   },
   "source": [
    "**<font color=\"orange\">2nd step:Data preprocessing on train,test and validation images</font>**"
   ]
  },
  {
   "cell_type": "code",
   "execution_count": 16,
   "id": "42918e8b",
   "metadata": {
    "colab": {
     "base_uri": "https://localhost:8080/"
    },
    "executionInfo": {
     "elapsed": 775,
     "status": "ok",
     "timestamp": 1718992783923,
     "user": {
      "displayName": "zee zkr",
      "userId": "07652722617520030141"
     },
     "user_tz": 420
    },
    "id": "42918e8b",
    "outputId": "2c640f1b-14ea-4b1e-e9e5-d93ae5a1d283"
   },
   "outputs": [
    {
     "name": "stdout",
     "output_type": "stream",
     "text": [
      "Found 326 images belonging to 2 classes.\n",
      "Found 92 images belonging to 2 classes.\n",
      "Found 12 images belonging to 2 classes.\n"
     ]
    }
   ],
   "source": [
    "train_datagen = ImageDataGenerator(rescale=1./255)\n",
    "train_generator = train_datagen.flow_from_directory(train_images,target_size=(150, 150),batch_size=20,\n",
    "class_mode='binary')\n",
    "\n",
    "validation_datagen = ImageDataGenerator(rescale=1./255)\n",
    "validation_generator = validation_datagen.flow_from_directory(validation_images,target_size=(150, 150),batch_size=20,\n",
    "class_mode='binary')\n",
    "\n",
    "test_datagen = ImageDataGenerator(rescale=1./255)\n",
    "test_generator = test_datagen.flow_from_directory(test_images,target_size=(150, 150),batch_size=20,\n",
    "class_mode='binary')\n",
    "\n"
   ]
  },
  {
   "cell_type": "markdown",
   "id": "175698bb-3e18-4c22-8ece-cf04c6032bbe",
   "metadata": {
    "executionInfo": {
     "elapsed": 657,
     "status": "ok",
     "timestamp": 1717864435105,
     "user": {
      "displayName": "zee zkr",
      "userId": "07652722617520030141"
     },
     "user_tz": 420
    },
    "id": "175698bb-3e18-4c22-8ece-cf04c6032bbe"
   },
   "source": [
    "**<font color=\"orange\">3rd step:  Apply CNN model </font>**"
   ]
  },
  {
   "cell_type": "code",
   "execution_count": 9,
   "id": "e5d5e778",
   "metadata": {
    "executionInfo": {
     "elapsed": 1290,
     "status": "ok",
     "timestamp": 1718991906550,
     "user": {
      "displayName": "zee zkr",
      "userId": "07652722617520030141"
     },
     "user_tz": 420
    },
    "id": "e5d5e778"
   },
   "outputs": [],
   "source": [
    "from keras import layers\n",
    "from keras import models\n",
    "model = models.Sequential()\n",
    "\n",
    "model.add(layers.Conv2D(32, (3, 3), activation='relu',input_shape=(150, 150, 3)))\n",
    "model.add(layers.MaxPooling2D((2, 2)))\n",
    "model.add(layers.Conv2D(64, (3, 3), activation='relu'))\n",
    "model.add(layers.MaxPooling2D((2, 2)))\n",
    "model.add(layers.Conv2D(128, (3, 3), activation='relu'))\n",
    "model.add(layers.MaxPooling2D((2, 2)))\n",
    "model.add(layers.Conv2D(128, (3, 3), activation='relu'))\n",
    "model.add(layers.MaxPooling2D((2, 2)))\n",
    "\n",
    "model.add(layers.Flatten())\n",
    "model.add(layers.Dropout(0.3))\n",
    "model.add(layers.Dense(512, activation='relu'))\n",
    "model.add(layers.Dense(1, activation='sigmoid'))"
   ]
  },
  {
   "cell_type": "code",
   "execution_count": 10,
   "id": "3b2dc9d6",
   "metadata": {
    "colab": {
     "base_uri": "https://localhost:8080/"
    },
    "executionInfo": {
     "elapsed": 553,
     "status": "ok",
     "timestamp": 1718991913746,
     "user": {
      "displayName": "zee zkr",
      "userId": "07652722617520030141"
     },
     "user_tz": 420
    },
    "id": "3b2dc9d6",
    "outputId": "bf03c4ea-0e47-4a52-d61d-48eb0dec9635"
   },
   "outputs": [
    {
     "name": "stdout",
     "output_type": "stream",
     "text": [
      "Model: \"sequential\"\n",
      "_________________________________________________________________\n",
      " Layer (type)                Output Shape              Param #   \n",
      "=================================================================\n",
      " conv2d (Conv2D)             (None, 148, 148, 32)      896       \n",
      "                                                                 \n",
      " max_pooling2d (MaxPooling2  (None, 74, 74, 32)        0         \n",
      " D)                                                              \n",
      "                                                                 \n",
      " conv2d_1 (Conv2D)           (None, 72, 72, 64)        18496     \n",
      "                                                                 \n",
      " max_pooling2d_1 (MaxPoolin  (None, 36, 36, 64)        0         \n",
      " g2D)                                                            \n",
      "                                                                 \n",
      " conv2d_2 (Conv2D)           (None, 34, 34, 128)       73856     \n",
      "                                                                 \n",
      " max_pooling2d_2 (MaxPoolin  (None, 17, 17, 128)       0         \n",
      " g2D)                                                            \n",
      "                                                                 \n",
      " conv2d_3 (Conv2D)           (None, 15, 15, 128)       147584    \n",
      "                                                                 \n",
      " max_pooling2d_3 (MaxPoolin  (None, 7, 7, 128)         0         \n",
      " g2D)                                                            \n",
      "                                                                 \n",
      " flatten (Flatten)           (None, 6272)              0         \n",
      "                                                                 \n",
      " dropout (Dropout)           (None, 6272)              0         \n",
      "                                                                 \n",
      " dense (Dense)               (None, 512)               3211776   \n",
      "                                                                 \n",
      " dense_1 (Dense)             (None, 1)                 513       \n",
      "                                                                 \n",
      "=================================================================\n",
      "Total params: 3453121 (13.17 MB)\n",
      "Trainable params: 3453121 (13.17 MB)\n",
      "Non-trainable params: 0 (0.00 Byte)\n",
      "_________________________________________________________________\n"
     ]
    }
   ],
   "source": [
    "model.summary()"
   ]
  },
  {
   "cell_type": "markdown",
   "id": "96318d70-3668-45de-884c-40f47c8b2d68",
   "metadata": {
    "id": "96318d70-3668-45de-884c-40f47c8b2d68"
   },
   "source": [
    "**<font color=\"orange\">4th step:  Compile the CNN model </font>**"
   ]
  },
  {
   "cell_type": "code",
   "execution_count": 11,
   "id": "79707d43",
   "metadata": {
    "executionInfo": {
     "elapsed": 530,
     "status": "ok",
     "timestamp": 1718991943829,
     "user": {
      "displayName": "zee zkr",
      "userId": "07652722617520030141"
     },
     "user_tz": 420
    },
    "id": "79707d43"
   },
   "outputs": [],
   "source": [
    "from keras import optimizers\n",
    "model.compile(loss='binary_crossentropy',optimizer=optimizers.RMSprop(learning_rate=1e-4),metrics=['acc'])"
   ]
  },
  {
   "cell_type": "markdown",
   "id": "de4e538a-8968-423f-9ef2-f6fbbf88e659",
   "metadata": {
    "id": "de4e538a-8968-423f-9ef2-f6fbbf88e659"
   },
   "source": [
    "**<font color=\"orange\">5th step:  Fit or train the CNN model </font>**"
   ]
  },
  {
   "cell_type": "code",
   "execution_count": 12,
   "id": "b4ba6302",
   "metadata": {
    "colab": {
     "base_uri": "https://localhost:8080/"
    },
    "executionInfo": {
     "elapsed": 274894,
     "status": "ok",
     "timestamp": 1718992247941,
     "user": {
      "displayName": "zee zkr",
      "userId": "07652722617520030141"
     },
     "user_tz": 420
    },
    "id": "b4ba6302",
    "outputId": "605d5557-0f1d-4d53-bb7b-adfb339faf75"
   },
   "outputs": [
    {
     "name": "stdout",
     "output_type": "stream",
     "text": [
      "Epoch 1/30\n",
      "17/17 [==============================] - 103s 6s/step - loss: 0.6943 - acc: 0.5368 - val_loss: 0.6692 - val_acc: 0.8478\n",
      "Epoch 2/30\n",
      "17/17 [==============================] - 5s 271ms/step - loss: 0.6798 - acc: 0.5859 - val_loss: 0.6508 - val_acc: 0.7826\n",
      "Epoch 3/30\n",
      "17/17 [==============================] - 7s 411ms/step - loss: 0.6492 - acc: 0.6718 - val_loss: 0.6224 - val_acc: 0.5435\n",
      "Epoch 4/30\n",
      "17/17 [==============================] - 5s 286ms/step - loss: 0.6193 - acc: 0.7025 - val_loss: 0.5519 - val_acc: 0.8261\n",
      "Epoch 5/30\n",
      "17/17 [==============================] - 6s 357ms/step - loss: 0.5860 - acc: 0.6963 - val_loss: 0.4944 - val_acc: 0.8587\n",
      "Epoch 6/30\n",
      "17/17 [==============================] - 5s 301ms/step - loss: 0.5172 - acc: 0.7761 - val_loss: 0.4461 - val_acc: 0.8370\n",
      "Epoch 7/30\n",
      "17/17 [==============================] - 5s 271ms/step - loss: 0.4859 - acc: 0.7975 - val_loss: 0.3935 - val_acc: 0.8913\n",
      "Epoch 8/30\n",
      "17/17 [==============================] - 6s 348ms/step - loss: 0.4544 - acc: 0.7945 - val_loss: 0.3601 - val_acc: 0.8804\n",
      "Epoch 9/30\n",
      "17/17 [==============================] - 4s 264ms/step - loss: 0.4108 - acc: 0.8282 - val_loss: 0.3392 - val_acc: 0.8913\n",
      "Epoch 10/30\n",
      "17/17 [==============================] - 5s 272ms/step - loss: 0.4040 - acc: 0.8160 - val_loss: 0.3389 - val_acc: 0.8587\n",
      "Epoch 11/30\n",
      "17/17 [==============================] - 6s 341ms/step - loss: 0.3845 - acc: 0.8221 - val_loss: 0.3024 - val_acc: 0.8804\n",
      "Epoch 12/30\n",
      "17/17 [==============================] - 5s 268ms/step - loss: 0.3842 - acc: 0.8344 - val_loss: 0.2883 - val_acc: 0.8913\n",
      "Epoch 13/30\n",
      "17/17 [==============================] - 6s 371ms/step - loss: 0.3622 - acc: 0.8344 - val_loss: 0.3360 - val_acc: 0.8696\n",
      "Epoch 14/30\n",
      "17/17 [==============================] - 5s 271ms/step - loss: 0.3342 - acc: 0.8528 - val_loss: 0.2740 - val_acc: 0.8913\n",
      "Epoch 15/30\n",
      "17/17 [==============================] - 6s 342ms/step - loss: 0.3700 - acc: 0.8558 - val_loss: 0.3395 - val_acc: 0.8804\n",
      "Epoch 16/30\n",
      "17/17 [==============================] - 5s 276ms/step - loss: 0.3275 - acc: 0.8528 - val_loss: 0.2607 - val_acc: 0.8913\n",
      "Epoch 17/30\n",
      "17/17 [==============================] - 5s 290ms/step - loss: 0.3120 - acc: 0.8681 - val_loss: 0.2563 - val_acc: 0.8913\n",
      "Epoch 18/30\n",
      "17/17 [==============================] - 6s 343ms/step - loss: 0.2897 - acc: 0.8804 - val_loss: 0.2669 - val_acc: 0.8696\n",
      "Epoch 19/30\n",
      "17/17 [==============================] - 5s 266ms/step - loss: 0.2978 - acc: 0.8773 - val_loss: 0.2422 - val_acc: 0.9130\n",
      "Epoch 20/30\n",
      "17/17 [==============================] - 5s 302ms/step - loss: 0.2762 - acc: 0.9202 - val_loss: 0.2370 - val_acc: 0.8696\n",
      "Epoch 21/30\n",
      "17/17 [==============================] - 5s 302ms/step - loss: 0.2759 - acc: 0.8804 - val_loss: 0.2463 - val_acc: 0.9022\n",
      "Epoch 22/30\n",
      "17/17 [==============================] - 6s 341ms/step - loss: 0.2805 - acc: 0.8896 - val_loss: 0.2521 - val_acc: 0.9130\n",
      "Epoch 23/30\n",
      "17/17 [==============================] - 5s 277ms/step - loss: 0.2779 - acc: 0.8957 - val_loss: 0.2972 - val_acc: 0.8913\n",
      "Epoch 24/30\n",
      "17/17 [==============================] - 4s 264ms/step - loss: 0.2777 - acc: 0.8804 - val_loss: 0.2248 - val_acc: 0.8913\n",
      "Epoch 25/30\n",
      "17/17 [==============================] - 6s 344ms/step - loss: 0.2637 - acc: 0.8988 - val_loss: 0.2675 - val_acc: 0.8804\n",
      "Epoch 26/30\n",
      "17/17 [==============================] - 5s 284ms/step - loss: 0.2420 - acc: 0.9141 - val_loss: 0.2175 - val_acc: 0.9130\n",
      "Epoch 27/30\n",
      "17/17 [==============================] - 5s 320ms/step - loss: 0.2419 - acc: 0.9080 - val_loss: 0.2501 - val_acc: 0.8804\n",
      "Epoch 28/30\n",
      "17/17 [==============================] - 5s 275ms/step - loss: 0.2216 - acc: 0.9080 - val_loss: 0.2380 - val_acc: 0.8913\n",
      "Epoch 29/30\n",
      "17/17 [==============================] - 6s 388ms/step - loss: 0.2170 - acc: 0.8988 - val_loss: 0.2115 - val_acc: 0.9130\n",
      "Epoch 30/30\n",
      "17/17 [==============================] - 5s 271ms/step - loss: 0.2025 - acc: 0.9233 - val_loss: 0.2388 - val_acc: 0.8913\n"
     ]
    }
   ],
   "source": [
    "history = model.fit(train_generator,epochs=30,validation_data=validation_generator)"
   ]
  },
  {
   "cell_type": "markdown",
   "id": "2KxkeS8W7w8a",
   "metadata": {
    "id": "2KxkeS8W7w8a"
   },
   "source": [
    "**<font color=\"orange\">6th step:  Save the CNN model </font>**"
   ]
  },
  {
   "cell_type": "code",
   "execution_count": 13,
   "id": "Stoo8gXrzNS0",
   "metadata": {
    "executionInfo": {
     "elapsed": 777,
     "status": "ok",
     "timestamp": 1718992346158,
     "user": {
      "displayName": "zee zkr",
      "userId": "07652722617520030141"
     },
     "user_tz": 420
    },
    "id": "Stoo8gXrzNS0"
   },
   "outputs": [],
   "source": [
    "model.save('/content/drive/MyDrive/Dataset_Lung_Cancer/lungs.keras')"
   ]
  },
  {
   "cell_type": "markdown",
   "id": "374d2db8-d435-412e-be46-ba2db9538cd6",
   "metadata": {
    "id": "374d2db8-d435-412e-be46-ba2db9538cd6"
   },
   "source": [
    "**<font color=\"orange\">7th step:  Plot the CNN model </font>**"
   ]
  },
  {
   "cell_type": "code",
   "execution_count": 14,
   "id": "9bfd2518",
   "metadata": {
    "colab": {
     "base_uri": "https://localhost:8080/",
     "height": 904
    },
    "executionInfo": {
     "elapsed": 2176,
     "status": "ok",
     "timestamp": 1718992514522,
     "user": {
      "displayName": "zee zkr",
      "userId": "07652722617520030141"
     },
     "user_tz": 420
    },
    "id": "9bfd2518",
    "outputId": "3c01f5b6-a754-4a21-9113-024d8792d6df"
   },
   "outputs": [
    {
     "name": "stdout",
     "output_type": "stream",
     "text": [
      "range(1, 31)\n"
     ]
    },
    {
     "data": {
      "image/png": "[encoded data removed]",
      "text/plain": [
       "<Figure size 640x480 with 1 Axes>"
      ]
     },
     "metadata": {},
     "output_type": "display_data"
    },
    {
     "data": {
      "image/png": "[encoded data removed]",
      "text/plain": [
       "<Figure size 640x480 with 1 Axes>"
      ]
     },
     "metadata": {},
     "output_type": "display_data"
    }
   ],
   "source": [
    "acc = history.history['acc']\n",
    "val_acc = history.history['val_acc']  #variable name = val_acc\n",
    "loss = history.history['loss']\n",
    "val_loss = history.history['val_loss']\n",
    "\n",
    "epochs = range(1, len(acc) + 1)\n",
    "print(epochs)\n",
    "#accuracy graph\n",
    "plt.plot(epochs, acc, 'g', label='Training Accuracy')\n",
    "plt.plot(epochs, val_acc, 'b', label='Validation Accuracy')\n",
    "plt.title('Training and Validation accuracy')\n",
    "plt.grid(axis='y')\n",
    "plt.legend()\n",
    "plt.figure()\n",
    "#loss graph\n",
    "plt.plot(epochs, loss, 'ro', label='Training loss')\n",
    "plt.plot(epochs, val_loss, 'bo', label='Validation loss')\n",
    "plt.title('Training and Validation loss')\n",
    "plt.grid(axis='y')\n",
    "plt.legend()\n",
    "plt.show()"
   ]
  },
  {
   "cell_type": "markdown",
   "id": "_ZFfdOKG9QBs",
   "metadata": {
    "id": "_ZFfdOKG9QBs"
   },
   "source": [
    "**<font color=\"orange\">8th step:  Evaluate the model on the test data</font>**"
   ]
  },
  {
   "cell_type": "code",
   "execution_count": 17,
   "id": "D6bO7Ydt879f",
   "metadata": {
    "colab": {
     "base_uri": "https://localhost:8080/"
    },
    "executionInfo": {
     "elapsed": 4346,
     "status": "ok",
     "timestamp": 1718992797713,
     "user": {
      "displayName": "zee zkr",
      "userId": "07652722617520030141"
     },
     "user_tz": 420
    },
    "id": "D6bO7Ydt879f",
    "outputId": "d1e69a27-645e-4a98-eb90-5396eb3cf59f"
   },
   "outputs": [
    {
     "name": "stdout",
     "output_type": "stream",
     "text": [
      "1/1 [==============================] - 0s 204ms/step - loss: 0.1342 - acc: 0.9167\n",
      "[0.1342117339372635, 0.9166666865348816]\n",
      "Test loss: 0.1342117339372635\n",
      "Test accuracy: 0.9166666865348816\n"
     ]
    }
   ],
   "source": [
    "score = model.evaluate(test_generator)\n",
    "print(score)\n",
    "print('Test loss:', score[0])\n",
    "print('Test accuracy:', score[1])"
   ]
  }
 ],
 "metadata": {
  "accelerator": "GPU",
  "colab": {
   "gpuType": "T4",
   "provenance": []
  },
  "kernelspec": {
   "display_name": "Python 3 (ipykernel)",
   "language": "python",
   "name": "python3"
  },
  "language_info": {
   "codemirror_mode": {
    "name": "ipython",
    "version": 3
   },
   "file_extension": ".py",
   "mimetype": "text/x-python",
   "name": "python",
   "nbconvert_exporter": "python",
   "pygments_lexer": "ipython3",
   "version": "3.9.1"
  }
 },
 "nbformat": 4,
 "nbformat_minor": 5
}
